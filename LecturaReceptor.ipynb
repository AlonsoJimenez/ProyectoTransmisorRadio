{
 "cells": [
  {
   "cell_type": "markdown",
   "id": "35972714",
   "metadata": {},
   "source": [
    "# Proyecto transmisión de radio"
   ]
  },
  {
   "cell_type": "markdown",
   "id": "97a9a0b6",
   "metadata": {},
   "source": [
    "A continuación se presenta el código para lectura del receptor de radio el proyecto, puede ser ejecutado en la misma celda."
   ]
  },
  {
   "cell_type": "code",
   "execution_count": null,
   "id": "147acc1d",
   "metadata": {},
   "outputs": [
    {
     "name": "stdout",
     "output_type": "stream",
     "text": [
      "Digite la entrada COM en la que se introducirá el radiometro (1-10):15\n",
      "Presione ctrl + c para detener el programa\n",
      "Mensaje: Hola mundo\n",
      "\n",
      "Mensaje: 0ola mundo\n",
      "\n",
      "Mensaje: Hola mundo\n",
      "\n",
      "Mensaje: 0ola mundo\n",
      "\n",
      "Mensaje: Hola mundo\n",
      "\n"
     ]
    }
   ],
   "source": [
    "\n",
    "from serial import Serial\n",
    "\n",
    "com = ''\n",
    "\n",
    "\n",
    "def crearCom():\n",
    "    try:\n",
    "        global com\n",
    "        com = input(\"Digite la entrada COM en la que se introducirá el radiometro (1-10):\")\n",
    "\n",
    "        com = int(com)\n",
    "        startStop()\n",
    "    except:\n",
    "        crearCom()\n",
    "    \n",
    "    \n",
    "\n",
    "def startStop():\n",
    "    global csvMemory\n",
    "    global com\n",
    "    arduino = Serial('COM'+ str(com), 9600)\n",
    "    try:\n",
    "        print(\"Presione ctrl + c para detener el programa\")\n",
    "        while(True):\n",
    "            line1 = arduino.readline()\n",
    "            line1 = (line1.decode('UTF-8'))\n",
    "            print(line1)\n",
    "    except KeyboardInterrupt:\n",
    "        arduino.close()\n",
    "        csvWriting()    \n",
    "\n",
    "    except:\n",
    "        print(\"Error de entrada COM\")\n",
    "\n",
    "\n",
    "\n",
    "crearCom()"
   ]
  },
  {
   "cell_type": "code",
   "execution_count": null,
   "id": "73377d42",
   "metadata": {},
   "outputs": [],
   "source": []
  }
 ],
 "metadata": {
  "kernelspec": {
   "display_name": "Python 3",
   "language": "python",
   "name": "python3"
  },
  "language_info": {
   "codemirror_mode": {
    "name": "ipython",
    "version": 3
   },
   "file_extension": ".py",
   "mimetype": "text/x-python",
   "name": "python",
   "nbconvert_exporter": "python",
   "pygments_lexer": "ipython3",
   "version": "3.8.8"
  }
 },
 "nbformat": 4,
 "nbformat_minor": 5
}
